{
 "cells": [
  {
   "cell_type": "markdown",
   "id": "f6a1d91b",
   "metadata": {},
   "source": [
    "# Simple Text Extraction"
   ]
  },
  {
   "cell_type": "markdown",
   "id": "74a63d8c",
   "metadata": {},
   "source": [
    "We are now going to build a simple text extractor for our PDF Parser so that our layout model (LayoutLMv3) and make sense of it from an input perspective."
   ]
  },
  {
   "cell_type": "markdown",
   "id": "05e44620",
   "metadata": {},
   "source": [
    "Here is our strategy:\n",
    "\n",
    "- Use the "
   ]
  }
 ],
 "metadata": {
  "language_info": {
   "name": "python"
  }
 },
 "nbformat": 4,
 "nbformat_minor": 5
}
